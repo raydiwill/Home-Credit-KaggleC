{
 "cells": [
  {
   "cell_type": "markdown",
   "metadata": {},
   "source": [
    "# Libraries"
   ]
  },
  {
   "cell_type": "code",
   "execution_count": 1,
   "metadata": {},
   "outputs": [],
   "source": [
    "from sklearn import set_config\n",
    "\n",
    "import pandas as pd\n",
    "import polars as pl\n",
    "import numpy as np\n",
    "import seaborn as sns\n",
    "import matplotlib.pyplot as plt"
   ]
  },
  {
   "cell_type": "markdown",
   "metadata": {},
   "source": [
    "# Configuration"
   ]
  },
  {
   "cell_type": "code",
   "execution_count": 24,
   "metadata": {},
   "outputs": [
    {
     "data": {
      "text/plain": [
       "<polars.config.Config at 0x148bc8250>"
      ]
     },
     "execution_count": 24,
     "metadata": {},
     "output_type": "execute_result"
    }
   ],
   "source": [
    "# Global configurations for sklearn:\n",
    "set_config(transform_output = \"pandas\")\n",
    "\n",
    "# Global configurations for pandas:\n",
    "pd.set_option('display.max_columns', None)\n",
    "pd.set_option('display.max_rows', 50)\n",
    "pd.set_option('display.precision', 3)\n",
    "pd.set_option('display.max_colwidth', None)\n",
    "\n",
    "# Global configurations for polars:\n",
    "pl.Config.activate_decimals(True).set_tbl_hide_column_data_types(True)\n",
    "pl.Config(\n",
    "    **dict(tbl_formatting = 'ASCII_FULL_CONDENSED',\n",
    "            tbl_hide_column_data_types = False,\n",
    "            tbl_hide_dataframe_shape = True,\n",
    "            fmt_float = \"mixed\",\n",
    "            tbl_cell_alignment = 'CENTER',\n",
    "            tbl_hide_dtype_separator = True,\n",
    "            tbl_cols = 100,\n",
    "            tbl_rows = 50,\n",
    "            fmt_str_lengths = 100,\n",
    "            )\n",
    ")"
   ]
  },
  {
   "cell_type": "markdown",
   "metadata": {},
   "source": [
    "# Functions"
   ]
  },
  {
   "cell_type": "code",
   "execution_count": 57,
   "metadata": {},
   "outputs": [],
   "source": [
    "class DataFrameProcessor:\n",
    "    \"\"\" Dataframe processing class.\n",
    "    \"\"\"\n",
    "\n",
    "    @staticmethod\n",
    "    def convert_types(df: pl.DataFrame) -> pl.DataFrame:\n",
    "        \"\"\" Converts columns' data types for memory.\n",
    "\n",
    "        Argument:\n",
    "        df (polars dataframe): The DataFrame to be processed.\n",
    "        \"\"\"\n",
    "        for column in df.columns:\n",
    "            if column == \"target\":\n",
    "                df = df.with_columns(pl.col(column).cast(pl.Int8))\n",
    "            elif column in [\"case_id\", \"WEEK_NUM\", \"num_group1\", \"num_group2\"]:\n",
    "                df = df.with_columns(pl.col(column).cast(pl.Int32))\n",
    "            elif column == \"date_decision\":\n",
    "                df = df.with_columns(pl.col(column).cast(pl.Date))\n",
    "            elif column[-1] in (\"P\", \"A\"):\n",
    "                df = df.with_columns(pl.col(column).cast(pl.Float64))\n",
    "            elif column[-1] == \"M\":\n",
    "                df = df.with_columns(pl.col(column).cast(pl.String))\n",
    "            elif column[-1] == \"D\":\n",
    "                df = df.with_columns(pl.col(column).cast(pl.Date))            \n",
    "\n",
    "        return df\n",
    "    \n",
    "    @staticmethod\n",
    "    def date_processor(df: pl.DataFrame) -> pl.DataFrame:\n",
    "        \"\"\" Processes the date columns.\n",
    "\n",
    "        Argument:\n",
    "        df (polars dataframe): The DataFrame to be processed.\n",
    "        \"\"\"\n",
    "        for column in df.columns:\n",
    "            if column == \"date_decision\":\n",
    "                df = df.with_columns(\n",
    "                    pl.col(column).dt.year().alias(\"year_decision\"),\n",
    "                    pl.col(column).dt.month().alias(\"month_decision\"),\n",
    "                    pl.col(column).dt.day().alias(\"day_decision\"),\n",
    "                    pl.col(column).dt.week().alias(\"week_decision\"),\n",
    "                    pl.col(column).dt.weekday().alias(\"weekday_decision\"),\n",
    "                    pl.col(column).dt.quarter().alias(\"quarter_decision\")\n",
    "                )\n",
    "\n",
    "        df = df.drop([\"date_decision\", \"WEEK_NUM\", \"MONTH\"])\n",
    "        \n",
    "        return df\n",
    "    \n",
    "    @staticmethod\n",
    "    def delete_nulls_column(df: pl.DataFrame) -> pl.DataFrame:\n",
    "        \"\"\" Deletes columns with more than 80% of null values.\n",
    "\n",
    "        Argument:\n",
    "        df (polars dataframe): The DataFrame to be processed.\n",
    "        \"\"\"\n",
    "        for column in df.columns:\n",
    "            if column not in [\"case_id\", \"target\"]:\n",
    "                null_percentage = df[column].is_null().sum() / df.shape[0]\n",
    "\n",
    "                if null_percentage > 0.80:\n",
    "                    df = df.drop(column)\n",
    "        \n",
    "        return df\n",
    "    \n",
    "    @staticmethod\n",
    "    def drop_duplicates(df: pl.DataFrame) -> pl.DataFrame:\n",
    "        \"\"\" Drops duplicates from the DataFrame.\n",
    "\n",
    "        Argument:\n",
    "        df (polars dataframe): The DataFrame to be processed.\n",
    "        \"\"\"\n",
    "        df = df.unique(keep=\"first\")\n",
    "        \n",
    "        return df"
   ]
  },
  {
   "cell_type": "code",
   "execution_count": 3,
   "metadata": {},
   "outputs": [],
   "source": [
    "def test_function() -> None:\n",
    "    pass"
   ]
  },
  {
   "cell_type": "markdown",
   "metadata": {},
   "source": [
    "# Read Data"
   ]
  },
  {
   "cell_type": "code",
   "execution_count": 21,
   "metadata": {},
   "outputs": [
    {
     "name": "stdout",
     "output_type": "stream",
     "text": [
      "CPU times: user 54.3 ms, sys: 71.3 ms, total: 126 ms\n",
      "Wall time: 150 ms\n"
     ]
    },
    {
     "data": {
      "text/html": [
       "<div>\n",
       "<style scoped>\n",
       "    .dataframe tbody tr th:only-of-type {\n",
       "        vertical-align: middle;\n",
       "    }\n",
       "\n",
       "    .dataframe tbody tr th {\n",
       "        vertical-align: top;\n",
       "    }\n",
       "\n",
       "    .dataframe thead th {\n",
       "        text-align: right;\n",
       "    }\n",
       "</style>\n",
       "<table border=\"1\" class=\"dataframe\">\n",
       "  <thead>\n",
       "    <tr style=\"text-align: right;\">\n",
       "      <th></th>\n",
       "      <th>case_id</th>\n",
       "      <th>date_decision</th>\n",
       "      <th>MONTH</th>\n",
       "      <th>WEEK_NUM</th>\n",
       "      <th>target</th>\n",
       "    </tr>\n",
       "  </thead>\n",
       "  <tbody>\n",
       "    <tr>\n",
       "      <th>0</th>\n",
       "      <td>0</td>\n",
       "      <td>2019-01-03</td>\n",
       "      <td>201901</td>\n",
       "      <td>0</td>\n",
       "      <td>0</td>\n",
       "    </tr>\n",
       "    <tr>\n",
       "      <th>1</th>\n",
       "      <td>1</td>\n",
       "      <td>2019-01-03</td>\n",
       "      <td>201901</td>\n",
       "      <td>0</td>\n",
       "      <td>0</td>\n",
       "    </tr>\n",
       "    <tr>\n",
       "      <th>2</th>\n",
       "      <td>2</td>\n",
       "      <td>2019-01-04</td>\n",
       "      <td>201901</td>\n",
       "      <td>0</td>\n",
       "      <td>0</td>\n",
       "    </tr>\n",
       "    <tr>\n",
       "      <th>3</th>\n",
       "      <td>3</td>\n",
       "      <td>2019-01-03</td>\n",
       "      <td>201901</td>\n",
       "      <td>0</td>\n",
       "      <td>0</td>\n",
       "    </tr>\n",
       "    <tr>\n",
       "      <th>4</th>\n",
       "      <td>4</td>\n",
       "      <td>2019-01-04</td>\n",
       "      <td>201901</td>\n",
       "      <td>0</td>\n",
       "      <td>1</td>\n",
       "    </tr>\n",
       "  </tbody>\n",
       "</table>\n",
       "</div>"
      ],
      "text/plain": [
       "   case_id date_decision   MONTH  WEEK_NUM  target\n",
       "0        0    2019-01-03  201901         0       0\n",
       "1        1    2019-01-03  201901         0       0\n",
       "2        2    2019-01-04  201901         0       0\n",
       "3        3    2019-01-03  201901         0       0\n",
       "4        4    2019-01-04  201901         0       1"
      ]
     },
     "execution_count": 21,
     "metadata": {},
     "output_type": "execute_result"
    }
   ],
   "source": [
    "%%time\n",
    "# Test pandas reading time\n",
    "test_pandas_df = pd.read_parquet('data/train/train_base.parquet')\n",
    "test_pandas_df.head()"
   ]
  },
  {
   "cell_type": "code",
   "execution_count": 53,
   "metadata": {},
   "outputs": [
    {
     "data": {
      "text/html": [
       "<div><style>\n",
       ".dataframe > thead > tr,\n",
       ".dataframe > tbody > tr {\n",
       "  text-align: right;\n",
       "  white-space: pre-wrap;\n",
       "}\n",
       "</style>\n",
       "<table border=\"1\" class=\"dataframe\"><thead><tr><th>case_id</th><th>date_decision</th><th>MONTH</th><th>WEEK_NUM</th><th>target</th></tr><tr><td>i64</td><td>str</td><td>i64</td><td>i64</td><td>i64</td></tr></thead><tbody><tr><td>0</td><td>&quot;2019-01-03&quot;</td><td>201901</td><td>0</td><td>0</td></tr><tr><td>1</td><td>&quot;2019-01-03&quot;</td><td>201901</td><td>0</td><td>0</td></tr><tr><td>2</td><td>&quot;2019-01-04&quot;</td><td>201901</td><td>0</td><td>0</td></tr><tr><td>3</td><td>&quot;2019-01-03&quot;</td><td>201901</td><td>0</td><td>0</td></tr><tr><td>4</td><td>&quot;2019-01-04&quot;</td><td>201901</td><td>0</td><td>1</td></tr></tbody></table></div>"
      ],
      "text/plain": [
       "+---------+---------------+--------+----------+--------+\n",
       "| case_id | date_decision |  MONTH | WEEK_NUM | target |\n",
       "|   i64   |      str      |   i64  |    i64   |   i64  |\n",
       "+======================================================+\n",
       "|    0    |   2019-01-03  | 201901 |     0    |    0   |\n",
       "|    1    |   2019-01-03  | 201901 |     0    |    0   |\n",
       "|    2    |   2019-01-04  | 201901 |     0    |    0   |\n",
       "|    3    |   2019-01-03  | 201901 |     0    |    0   |\n",
       "|    4    |   2019-01-04  | 201901 |     0    |    1   |\n",
       "+---------+---------------+--------+----------+--------+"
      ]
     },
     "metadata": {},
     "output_type": "display_data"
    },
    {
     "name": "stdout",
     "output_type": "stream",
     "text": [
      "(1526659, 5)\n",
      "CPU times: user 70.3 ms, sys: 27.4 ms, total: 97.7 ms\n",
      "Wall time: 41.3 ms\n"
     ]
    }
   ],
   "source": [
    "%%time\n",
    "df_train = pl.read_parquet('data/train/train_base.parquet')\n",
    "display(df_train.head())\n",
    "\n",
    "print(df_train.shape)"
   ]
  },
  {
   "cell_type": "markdown",
   "metadata": {},
   "source": [
    "> Comment: Polars read data faster than pandas, since there are many files, it might be a good idea for me to mitigate to Polars."
   ]
  },
  {
   "cell_type": "code",
   "execution_count": 58,
   "metadata": {},
   "outputs": [
    {
     "data": {
      "text/html": [
       "<div><style>\n",
       ".dataframe > thead > tr,\n",
       ".dataframe > tbody > tr {\n",
       "  text-align: right;\n",
       "  white-space: pre-wrap;\n",
       "}\n",
       "</style>\n",
       "<table border=\"1\" class=\"dataframe\"><thead><tr><th>case_id</th><th>target</th><th>year_decision</th><th>month_decision</th><th>day_decision</th><th>week_decision</th><th>weekday_decision</th><th>quarter_decision</th></tr><tr><td>i32</td><td>i8</td><td>i32</td><td>i8</td><td>i8</td><td>i8</td><td>i8</td><td>i8</td></tr></thead><tbody><tr><td>0</td><td>0</td><td>2019</td><td>1</td><td>3</td><td>1</td><td>4</td><td>1</td></tr><tr><td>1</td><td>0</td><td>2019</td><td>1</td><td>3</td><td>1</td><td>4</td><td>1</td></tr><tr><td>2</td><td>0</td><td>2019</td><td>1</td><td>4</td><td>1</td><td>5</td><td>1</td></tr><tr><td>3</td><td>0</td><td>2019</td><td>1</td><td>3</td><td>1</td><td>4</td><td>1</td></tr><tr><td>4</td><td>1</td><td>2019</td><td>1</td><td>4</td><td>1</td><td>5</td><td>1</td></tr></tbody></table></div>"
      ],
      "text/plain": [
       "+---------+--------+-------------+-------------+------------+------------+------------+------------+\n",
       "| case_id | target | year_decisi | month_decis | day_decisi | week_decis | weekday_de | quarter_de |\n",
       "|   i32   |   i8   |      on     |     ion     |     on     |     ion    |   cision   |   cision   |\n",
       "|         |        |     i32     |      i8     |     i8     |     i8     |     i8     |     i8     |\n",
       "+==================================================================================================+\n",
       "|    0    |    0   |     2019    |      1      |      3     |      1     |      4     |      1     |\n",
       "|    1    |    0   |     2019    |      1      |      3     |      1     |      4     |      1     |\n",
       "|    2    |    0   |     2019    |      1      |      4     |      1     |      5     |      1     |\n",
       "|    3    |    0   |     2019    |      1      |      3     |      1     |      4     |      1     |\n",
       "|    4    |    1   |     2019    |      1      |      4     |      1     |      5     |      1     |\n",
       "+---------+--------+-------------+-------------+------------+------------+------------+------------+"
      ]
     },
     "metadata": {},
     "output_type": "display_data"
    },
    {
     "name": "stdout",
     "output_type": "stream",
     "text": [
      "(1526659, 8)\n",
      "(1526659, 8)\n"
     ]
    }
   ],
   "source": [
    "df_train = df_train.pipe(DataFrameProcessor.convert_types)\n",
    "df_train = df_train.pipe(DataFrameProcessor.date_processor)\n",
    "\n",
    "display(df_train.head())\n",
    "print(df_train.shape)\n",
    "df_train = df_train.pipe(DataFrameProcessor.delete_nulls_column)\n",
    "df_train = df_train.pipe(DataFrameProcessor.drop_duplicates)\n",
    "\n",
    "print(df_train.shape)"
   ]
  },
  {
   "cell_type": "code",
   "execution_count": null,
   "metadata": {},
   "outputs": [],
   "source": []
  },
  {
   "cell_type": "code",
   "execution_count": 26,
   "metadata": {},
   "outputs": [
    {
     "data": {
      "text/html": [
       "<div><style>\n",
       ".dataframe > thead > tr,\n",
       ".dataframe > tbody > tr {\n",
       "  text-align: right;\n",
       "  white-space: pre-wrap;\n",
       "}\n",
       "</style>\n",
       "<table border=\"1\" class=\"dataframe\"><thead><tr><th>case_id</th><th>actualdpdtolerance_344P</th><th>amtinstpaidbefduel24m_4187115A</th><th>annuity_780A</th><th>annuitynextmonth_57A</th><th>applicationcnt_361L</th><th>applications30d_658L</th><th>applicationscnt_1086L</th><th>applicationscnt_464L</th><th>applicationscnt_629L</th><th>applicationscnt_867L</th><th>avgdbddpdlast24m_3658932P</th><th>avgdbddpdlast3m_4187120P</th><th>avgdbdtollast24m_4525197P</th><th>avgdpdtolclosure24_3658938P</th><th>avginstallast24m_3658937A</th><th>avglnamtstart24m_4525187A</th><th>avgmaxdpdlast9m_3716943P</th><th>avgoutstandbalancel6m_4187114A</th><th>avgpmtlast12m_4525200A</th><th>bankacctype_710L</th><th>cardtype_51L</th><th>clientscnt12m_3712952L</th><th>clientscnt3m_3712950L</th><th>clientscnt6m_3712949L</th><th>clientscnt_100L</th><th>clientscnt_1022L</th><th>clientscnt_1071L</th><th>clientscnt_1130L</th><th>clientscnt_136L</th><th>clientscnt_157L</th><th>clientscnt_257L</th><th>clientscnt_304L</th><th>clientscnt_360L</th><th>clientscnt_493L</th><th>clientscnt_533L</th><th>clientscnt_887L</th><th>clientscnt_946L</th><th>cntincpaycont9m_3716944L</th><th>cntpmts24_3658933L</th><th>commnoinclast6m_3546845L</th><th>credamount_770A</th><th>credtype_322L</th><th>currdebt_22A</th><th>currdebtcredtyperange_828A</th><th>datefirstoffer_1144D</th><th>datelastinstal40dpd_247D</th><th>datelastunpaid_3546854D</th><th>daysoverduetolerancedd_3976961L</th><th>deferredmnthsnum_166L</th><th>&hellip;</th><th>numinstls_657L</th><th>numinstlsallpaid_934L</th><th>numinstlswithdpd10_728L</th><th>numinstlswithdpd5_4187116L</th><th>numinstlswithoutdpd_562L</th><th>numinstmatpaidtearly2d_4499204L</th><th>numinstpaid_4499208L</th><th>numinstpaidearly3d_3546850L</th><th>numinstpaidearly3dest_4493216L</th><th>numinstpaidearly5d_1087L</th><th>numinstpaidearly5dest_4493211L</th><th>numinstpaidearly5dobd_4499205L</th><th>numinstpaidearly_338L</th><th>numinstpaidearlyest_4493214L</th><th>numinstpaidlastcontr_4325080L</th><th>numinstpaidlate1d_3546852L</th><th>numinstregularpaid_973L</th><th>numinstregularpaidest_4493210L</th><th>numinsttopaygr_769L</th><th>numinsttopaygrest_4493213L</th><th>numinstunpaidmax_3546851L</th><th>numinstunpaidmaxest_4493212L</th><th>numnotactivated_1143L</th><th>numpmtchanneldd_318L</th><th>numrejects9m_859L</th><th>opencred_647L</th><th>paytype1st_925L</th><th>paytype_783L</th><th>payvacationpostpone_4187118D</th><th>pctinstlsallpaidearl3d_427L</th><th>pctinstlsallpaidlat10d_839L</th><th>pctinstlsallpaidlate1d_3546856L</th><th>pctinstlsallpaidlate4d_3546849L</th><th>pctinstlsallpaidlate6d_3546844L</th><th>pmtnum_254L</th><th>posfpd10lastmonth_333P</th><th>posfpd30lastmonth_3976960P</th><th>posfstqpd30lastmonth_3976962P</th><th>previouscontdistrict_112M</th><th>price_1097A</th><th>sellerplacecnt_915L</th><th>sellerplacescnt_216L</th><th>sumoutstandtotal_3546847A</th><th>sumoutstandtotalest_4493215A</th><th>totaldebt_9A</th><th>totalsettled_863A</th><th>totinstallast1m_4525188A</th><th>twobodfilling_608L</th><th>typesuite_864L</th><th>validfrom_1069D</th></tr><tr><td>i64</td><td>f64</td><td>f64</td><td>f64</td><td>f64</td><td>f64</td><td>f64</td><td>f64</td><td>f64</td><td>f64</td><td>f64</td><td>f64</td><td>f64</td><td>f64</td><td>f64</td><td>f64</td><td>f64</td><td>f64</td><td>f64</td><td>f64</td><td>str</td><td>str</td><td>f64</td><td>f64</td><td>f64</td><td>f64</td><td>f64</td><td>f64</td><td>f64</td><td>f64</td><td>f64</td><td>f64</td><td>f64</td><td>f64</td><td>f64</td><td>f64</td><td>f64</td><td>f64</td><td>f64</td><td>f64</td><td>f64</td><td>f64</td><td>str</td><td>f64</td><td>f64</td><td>str</td><td>str</td><td>str</td><td>f64</td><td>f64</td><td>&hellip;</td><td>f64</td><td>f64</td><td>f64</td><td>f64</td><td>f64</td><td>f64</td><td>f64</td><td>f64</td><td>f64</td><td>f64</td><td>f64</td><td>f64</td><td>f64</td><td>f64</td><td>f64</td><td>f64</td><td>f64</td><td>f64</td><td>f64</td><td>f64</td><td>f64</td><td>f64</td><td>f64</td><td>f64</td><td>f64</td><td>bool</td><td>str</td><td>str</td><td>str</td><td>f64</td><td>f64</td><td>f64</td><td>f64</td><td>f64</td><td>f64</td><td>f64</td><td>f64</td><td>f64</td><td>str</td><td>f64</td><td>f64</td><td>f64</td><td>f64</td><td>f64</td><td>f64</td><td>f64</td><td>f64</td><td>str</td><td>str</td><td>str</td></tr></thead><tbody><tr><td>0</td><td>null</td><td>null</td><td>1917.6</td><td>0.0</td><td>0.0</td><td>0.0</td><td>0.0</td><td>0.0</td><td>0.0</td><td>0.0</td><td>null</td><td>null</td><td>null</td><td>null</td><td>null</td><td>null</td><td>null</td><td>null</td><td>null</td><td>null</td><td>null</td><td>0.0</td><td>0.0</td><td>0.0</td><td>0.0</td><td>0.0</td><td>0.0</td><td>0.0</td><td>null</td><td>0.0</td><td>0.0</td><td>0.0</td><td>0.0</td><td>0.0</td><td>0.0</td><td>0.0</td><td>0.0</td><td>null</td><td>null</td><td>0.0</td><td>30000.0</td><td>&quot;CAL&quot;</td><td>0.0</td><td>0.0</td><td>null</td><td>null</td><td>null</td><td>null</td><td>0.0</td><td>&hellip;</td><td>0.0</td><td>null</td><td>null</td><td>null</td><td>null</td><td>null</td><td>null</td><td>null</td><td>null</td><td>null</td><td>null</td><td>null</td><td>null</td><td>null</td><td>null</td><td>null</td><td>null</td><td>null</td><td>null</td><td>null</td><td>null</td><td>null</td><td>0.0</td><td>0.0</td><td>0.0</td><td>null</td><td>&quot;OTHER&quot;</td><td>&quot;OTHER&quot;</td><td>null</td><td>null</td><td>null</td><td>null</td><td>null</td><td>null</td><td>24.0</td><td>0.0</td><td>0.0</td><td>null</td><td>&quot;a55475b1&quot;</td><td>null</td><td>0.0</td><td>0.0</td><td>null</td><td>null</td><td>0.0</td><td>0.0</td><td>null</td><td>&quot;BO&quot;</td><td>null</td><td>null</td></tr><tr><td>1</td><td>null</td><td>null</td><td>3134.0</td><td>0.0</td><td>0.0</td><td>0.0</td><td>0.0</td><td>0.0</td><td>0.0</td><td>0.0</td><td>null</td><td>null</td><td>null</td><td>null</td><td>null</td><td>null</td><td>null</td><td>null</td><td>null</td><td>null</td><td>null</td><td>0.0</td><td>0.0</td><td>0.0</td><td>0.0</td><td>0.0</td><td>0.0</td><td>0.0</td><td>0.0</td><td>3.0</td><td>0.0</td><td>0.0</td><td>0.0</td><td>0.0</td><td>0.0</td><td>0.0</td><td>0.0</td><td>null</td><td>null</td><td>0.0</td><td>19999.8</td><td>&quot;CAL&quot;</td><td>0.0</td><td>0.0</td><td>null</td><td>null</td><td>null</td><td>null</td><td>0.0</td><td>&hellip;</td><td>0.0</td><td>null</td><td>null</td><td>null</td><td>null</td><td>null</td><td>null</td><td>null</td><td>null</td><td>null</td><td>null</td><td>null</td><td>null</td><td>null</td><td>null</td><td>null</td><td>null</td><td>null</td><td>null</td><td>null</td><td>null</td><td>null</td><td>0.0</td><td>0.0</td><td>0.0</td><td>null</td><td>&quot;OTHER&quot;</td><td>&quot;OTHER&quot;</td><td>null</td><td>null</td><td>null</td><td>null</td><td>null</td><td>null</td><td>18.0</td><td>0.0</td><td>0.0</td><td>null</td><td>&quot;a55475b1&quot;</td><td>null</td><td>0.0</td><td>0.0</td><td>null</td><td>null</td><td>0.0</td><td>0.0</td><td>null</td><td>&quot;BO&quot;</td><td>null</td><td>null</td></tr><tr><td>2</td><td>null</td><td>null</td><td>4937.0</td><td>0.0</td><td>0.0</td><td>0.0</td><td>0.0</td><td>0.0</td><td>0.0</td><td>0.0</td><td>null</td><td>null</td><td>null</td><td>null</td><td>null</td><td>null</td><td>null</td><td>null</td><td>null</td><td>null</td><td>null</td><td>0.0</td><td>0.0</td><td>0.0</td><td>0.0</td><td>0.0</td><td>0.0</td><td>0.0</td><td>null</td><td>0.0</td><td>0.0</td><td>0.0</td><td>0.0</td><td>0.0</td><td>0.0</td><td>0.0</td><td>0.0</td><td>null</td><td>null</td><td>null</td><td>78000.0</td><td>&quot;CAL&quot;</td><td>0.0</td><td>0.0</td><td>null</td><td>null</td><td>null</td><td>null</td><td>0.0</td><td>&hellip;</td><td>0.0</td><td>null</td><td>null</td><td>null</td><td>null</td><td>null</td><td>null</td><td>null</td><td>null</td><td>null</td><td>null</td><td>null</td><td>null</td><td>null</td><td>null</td><td>null</td><td>null</td><td>null</td><td>null</td><td>null</td><td>null</td><td>null</td><td>0.0</td><td>0.0</td><td>0.0</td><td>false</td><td>&quot;OTHER&quot;</td><td>&quot;OTHER&quot;</td><td>null</td><td>null</td><td>null</td><td>null</td><td>null</td><td>null</td><td>36.0</td><td>0.0</td><td>0.0</td><td>null</td><td>&quot;a55475b1&quot;</td><td>null</td><td>0.0</td><td>0.0</td><td>null</td><td>null</td><td>0.0</td><td>0.0</td><td>null</td><td>&quot;BO&quot;</td><td>&quot;AL&quot;</td><td>null</td></tr><tr><td>3</td><td>null</td><td>null</td><td>4643.6</td><td>0.0</td><td>0.0</td><td>1.0</td><td>0.0</td><td>2.0</td><td>0.0</td><td>1.0</td><td>null</td><td>null</td><td>null</td><td>null</td><td>null</td><td>null</td><td>null</td><td>null</td><td>null</td><td>null</td><td>null</td><td>0.0</td><td>0.0</td><td>0.0</td><td>0.0</td><td>0.0</td><td>0.0</td><td>1.0</td><td>null</td><td>0.0</td><td>0.0</td><td>0.0</td><td>0.0</td><td>0.0</td><td>0.0</td><td>0.0</td><td>0.0</td><td>null</td><td>null</td><td>0.0</td><td>40000.0</td><td>&quot;CAL&quot;</td><td>0.0</td><td>0.0</td><td>null</td><td>null</td><td>null</td><td>null</td><td>0.0</td><td>&hellip;</td><td>0.0</td><td>null</td><td>null</td><td>null</td><td>null</td><td>null</td><td>null</td><td>null</td><td>null</td><td>null</td><td>null</td><td>null</td><td>null</td><td>null</td><td>null</td><td>null</td><td>null</td><td>null</td><td>null</td><td>null</td><td>null</td><td>null</td><td>0.0</td><td>0.0</td><td>1.0</td><td>false</td><td>&quot;OTHER&quot;</td><td>&quot;OTHER&quot;</td><td>null</td><td>null</td><td>null</td><td>null</td><td>null</td><td>null</td><td>12.0</td><td>0.0</td><td>0.0</td><td>null</td><td>&quot;a55475b1&quot;</td><td>null</td><td>1.0</td><td>1.0</td><td>null</td><td>null</td><td>0.0</td><td>0.0</td><td>null</td><td>&quot;BO&quot;</td><td>&quot;AL&quot;</td><td>null</td></tr><tr><td>4</td><td>null</td><td>null</td><td>3390.2</td><td>0.0</td><td>0.0</td><td>1.0</td><td>0.0</td><td>0.0</td><td>0.0</td><td>1.0</td><td>null</td><td>null</td><td>null</td><td>null</td><td>null</td><td>null</td><td>null</td><td>null</td><td>null</td><td>null</td><td>null</td><td>0.0</td><td>0.0</td><td>0.0</td><td>0.0</td><td>0.0</td><td>0.0</td><td>0.0</td><td>null</td><td>0.0</td><td>0.0</td><td>0.0</td><td>0.0</td><td>0.0</td><td>0.0</td><td>0.0</td><td>0.0</td><td>null</td><td>null</td><td>0.0</td><td>44000.0</td><td>&quot;CAL&quot;</td><td>0.0</td><td>0.0</td><td>null</td><td>null</td><td>null</td><td>null</td><td>0.0</td><td>&hellip;</td><td>0.0</td><td>null</td><td>null</td><td>null</td><td>null</td><td>null</td><td>null</td><td>null</td><td>null</td><td>null</td><td>null</td><td>null</td><td>null</td><td>null</td><td>null</td><td>null</td><td>null</td><td>null</td><td>null</td><td>null</td><td>null</td><td>null</td><td>0.0</td><td>0.0</td><td>0.0</td><td>false</td><td>&quot;OTHER&quot;</td><td>&quot;OTHER&quot;</td><td>null</td><td>null</td><td>null</td><td>null</td><td>null</td><td>null</td><td>24.0</td><td>0.0</td><td>0.0</td><td>null</td><td>&quot;a55475b1&quot;</td><td>null</td><td>0.0</td><td>0.0</td><td>null</td><td>null</td><td>0.0</td><td>0.0</td><td>null</td><td>&quot;BO&quot;</td><td>&quot;AL&quot;</td><td>null</td></tr></tbody></table></div>"
      ],
      "text/plain": [
       "+-----+-----+-----+-----+-----+-----+-----+-----+-----+-----+-----+-----+-----+-----+-----+-----+-----+-----+-----+-----+-----+-----+-----+-----+-----+-----+-----+-----+-----+-----+-----+-----+-----+-----+-----+-----+-----+-----+-----+-----+-----+-----+-----+-----+-----+-----+-----+-----+-----+-----+---+-----+-----+-----+-----+-----+-----+-----+-----+-----+-----+-----+-----+-----+-----+-----+-----+-----+-----+-----+-----+-----+-----+-----+-----+-----+-----+-----+-----+-----+-----+-----+-----+-----+-----+-----+-----+-----+-----+-----+-----+-----+-----+-----+-----+-----+-----+-----+-----+-----+-----+\n",
       "| cas | act | amt | ann | ann | app | app | app | app | app | app | avg | avg | avg | avg | avg | avg | avg | avg | avg | ban | car | cli | cli | cli | cli | cli | cli | cli | cli | cli | cli | cli | cli | cli | cli | cli | cli | cnt | cnt | com | cre | cre | cur | cur | dat | dat | dat | day | def | … | num | num | num | num | num | num | num | num | num | num | num | num | num | num | num | num | num | num | num | num | num | num | num | num | num | ope | pay | pay | pay | pct | pct | pct | pct | pct | pmt | pos | pos | pos | pre | pri | sel | sel | sum | sum | tot | tot | tot | two | typ | val |\n",
       "| e_i | ual | ins | uit | uit | lic | lic | lic | lic | lic | lic | dbd | dbd | dbd | dpd | ins | lna | max | out | pmt | kac | dty | ent | ent | ent | ent | ent | ent | ent | ent | ent | ent | ent | ent | ent | ent | ent | ent | inc | pmt | mno | dam | dty | rde | rde | efi | ela | ela | sov | err |   | ins | ins | ins | ins | ins | ins | ins | ins | ins | ins | ins | ins | ins | ins | ins | ins | ins | ins | ins | ins | ins | ins | not | pmt | rej | ncr | typ | typ | vac | ins | ins | ins | ins | ins | num | fpd | fpd | fst | vio | ce_ | ler | ler | out | out | ald | als | ins | bod | esu | idf |\n",
       "|  d  | dpd | tpa | y_7 | yne | ati | ati | ati | ati | ati | ati | dpd | dpd | tol | tol | tal | mts | dpd | sta | las | cty | pe_ | scn | scn | scn | scn | scn | scn | scn | scn | scn | scn | scn | scn | scn | scn | scn | scn | pay | s24 | inc | oun | pe_ | bt_ | btc | rst | sti | stu | erd | edm |   | tls | tls | tls | tls | tls | tma | tpa | tpa | tpa | tpa | tpa | tpa | tpa | tpa | tpa | tpa | tre | tre | tto | tto | tun | tun | act | cha | ect | ed_ | e1s | e_7 | ati | tls | tls | tls | tls | tls | _25 | 10l | 30l | qpd | usc | 109 | pla | pla | sta | sta | ebt | ett | tal | fil | ite | rom |\n",
       "| i64 | tol | idb | 80A | xtm | onc | ons | ons | ons | ons | ons | las | las | las | clo | las | tar | las | ndb | t12 | pe_ | 51L | t12 | t3m | t6m | t_1 | t_1 | t_1 | t_1 | t_1 | t_1 | t_2 | t_3 | t_3 | t_4 | t_5 | t_8 | t_9 | con | _36 | las | t_7 | 322 | 22A | red | off | nst | npa | uet | nth |   | _65 | all | wit | wit | wit | tpa | id_ | ide | ide | ide | ide | ide | ide | ide | idl | idl | gul | gul | pay | pay | pai | pai | iva | nne | s9m | 647 | t_9 | 83L | onp | all | all | all | all | all |  4L | ast | ast | 30l | ont |  7A | cec | ces | ndt | ndt | _9A | led | las | lin | _86 | _10 |\n",
       "|     | era | efd | f64 | ont | nt_ | 30d | cnt | cnt | cnt | cnt | t24 | t3m | t24 | sur | t24 | t24 | t9m | ala | m_4 | 710 | str | m_3 | _37 | _37 | 00L | 022 | 071 | 130 | 36L | 57L | 57L | 04L | 60L | 93L | 33L | 87L | 46L | t9m | 589 | t6m | 70A |  L  | f64 | typ | er_ | al4 | id_ | ole | snu |   |  7L | pai | hdp | hdp | hou | idt | 449 | arl | arl | arl | arl | arl | arl | arl | ast | ate | arp | arp | gr_ | gre | dma | dma | ted | ldd | _85 |  L  | 25L | str | ost | pai | pai | pai | pai | pai | f64 | mon | mon | ast | dis | f64 | nt_ | cnt | ota | ota | f64 | _86 | t1m | g_6 |  4L | 69D |\n",
       "|     | nce | uel |     | h_5 | 361 | _65 | _10 | _46 | _62 | _86 | m_3 | _41 | m_4 | e24 | m_3 | m_4 | _37 | nce | 525 |  L  |     | 712 | 129 | 129 | f64 |  L  |  L  |  L  | f64 | f64 | f64 | f64 | f64 | f64 | f64 | f64 | f64 | _37 | 33L | _35 | f64 | str |     | era | 114 | 0dp | 354 | ran | m_1 |   | f64 | d_9 | d10 | d5_ | tdp | ear | 920 | y3d | y3d | y5d | y5d | y5d | y_3 | yes | con | 1d_ | aid | aid | 769 | st_ | x_3 | xes | _11 | _31 |  9L | boo | str |     | pon | dea | dla | dla | dla | dla |     | th_ | th_ | mon | tri |     | 915 | _21 | l_3 | les |     |  3A | _45 | 08L | str | str |\n",
       "|     | _34 | 24m |     |  7A |  L  |  8L | 86L |  4L |  9L |  7L | 658 | 871 | 525 | _36 | 658 | 525 | 169 | l6m | 200 | str |     | 952 | 50L | 49L |     | f64 | f64 | f64 |     |     |     |     |     |     |     |     |     | 169 | f64 | 468 |     |     |     | nge |  4D | d_2 | 685 | ced | 66L |   |     | 34L | _72 | 418 | d_5 | ly2 |  8L | _35 | est | _10 | est | obd | 38L | t_4 | tr_ | 354 | _97 | est |  L  | 449 | 546 | t_4 | 43L |  8L | f64 |  l  |     |     | e_4 | rl3 | t10 | te1 | te4 | te6 |     | 333 | 397 | th_ | ct_ |     |  L  |  6L | 546 | t_4 |     | f64 | 251 | str |     |     |\n",
       "|     |  4P | _41 |     | f64 | f64 | f64 | f64 | f64 | f64 | f64 | 932 | 20P | 197 | 589 | 937 | 187 | 43P | _41 |  A  |     |     |  L  | f64 | f64 |     |     |     |     |     |     |     |     |     |     |     |     |     | 44L |     | 45L |     |     |     | _82 | str | 47D |  4D | d_3 | f64 |   |     | f64 |  8L | 711 | 62L | d_4 | f64 | 468 | _44 | 87L | _44 | _44 | f64 | 493 | 432 | 685 |  3L | _44 | f64 | 321 | 851 | 493 | f64 | f64 |     |     |     |     | 187 | d_4 | d_8 | d_3 | d_3 | d_3 |     |  P  | 696 | 397 | 112 |     | f64 | f64 | 847 | 493 |     |     | 88A |     |     |     |\n",
       "|     | f64 | 871 |     |     |     |     |     |     |     |     |  P  | f64 |  P  | 38P |  A  |  A  | f64 | 871 | f64 |     |     | f64 |     |     |     |     |     |     |     |     |     |     |     |     |     |     |     | f64 |     | f64 |     |     |     |  8A |     | str | str | 976 |     |   |     |     | f64 |  6L | f64 | 499 |     | 50L | 932 | f64 | 932 | 992 |     | 214 | 508 |  2L | f64 | 932 |     |  3L |  L  | 212 |     |     |     |     |     |     | 118 | 27L | 39L | 546 | 546 | 546 |     | f64 |  0P | 696 |  M  |     |     |     |  A  | 215 |     |     | f64 |     |     |     |\n",
       "|     |     | 15A |     |     |     |     |     |     |     |     | f64 |     | f64 | f64 | f64 | f64 |     | 14A |     |     |     |     |     |     |     |     |     |     |     |     |     |     |     |     |     |     |     |     |     |     |     |     |     | f64 |     |     |     | 961 |     |   |     |     |     | f64 |     | 204 |     | f64 | 16L |     | 11L | 05L |     |  L  |  0L | f64 |     | 10L |     | f64 | f64 |  L  |     |     |     |     |     |     |  D  | f64 | f64 | 856 | 849 | 844 |     |     | f64 |  2P | str |     |     |     | f64 |  A  |     |     |     |     |     |     |\n",
       "|     |     | f64 |     |     |     |     |     |     |     |     |     |     |     |     |     |     |     | f64 |     |     |     |     |     |     |     |     |     |     |     |     |     |     |     |     |     |     |     |     |     |     |     |     |     |     |     |     |     |  L  |     |   |     |     |     |     |     |  L  |     |     | f64 |     | f64 | f64 |     | f64 | f64 |     |     | f64 |     |     |     | f64 |     |     |     |     |     |     | str |     |     |  L  |  L  |  L  |     |     |     | f64 |     |     |     |     |     | f64 |     |     |     |     |     |     |\n",
       "|     |     |     |     |     |     |     |     |     |     |     |     |     |     |     |     |     |     |     |     |     |     |     |     |     |     |     |     |     |     |     |     |     |     |     |     |     |     |     |     |     |     |     |     |     |     |     |     | f64 |     |   |     |     |     |     |     | f64 |     |     |     |     |     |     |     |     |     |     |     |     |     |     |     |     |     |     |     |     |     |     |     |     |     | f64 | f64 | f64 |     |     |     |     |     |     |     |     |     |     |     |     |     |     |     |     |\n",
       "+===========================================================================================================================================================================================================================================================================================================================================================================================================================================================================================================================================================================================================================+\n",
       "|  0  | nul | nul | 191 | 0.0 | 0.0 | 0.0 | 0.0 | 0.0 | 0.0 | 0.0 | nul | nul | nul | nul | nul | nul | nul | nul | nul | nul | nul | 0.0 | 0.0 | 0.0 | 0.0 | 0.0 | 0.0 | 0.0 | nul | 0.0 | 0.0 | 0.0 | 0.0 | 0.0 | 0.0 | 0.0 | 0.0 | nul | nul | 0.0 | 300 | CAL | 0.0 | 0.0 | nul | nul | nul | nul | 0.0 | … | 0.0 | nul | nul | nul | nul | nul | nul | nul | nul | nul | nul | nul | nul | nul | nul | nul | nul | nul | nul | nul | nul | nul | 0.0 | 0.0 | 0.0 | nul | OTH | OTH | nul | nul | nul | nul | nul | nul | 24. | 0.0 | 0.0 | nul | a55 | nul | 0.0 | 0.0 | nul | nul | 0.0 | 0.0 | nul |  BO | nul | nul |\n",
       "|     |  l  |  l  | 7.6 |     |     |     |     |     |     |     |  l  |  l  |  l  |  l  |  l  |  l  |  l  |  l  |  l  |  l  |  l  |     |     |     |     |     |     |     |  l  |     |     |     |     |     |     |     |     |  l  |  l  |     | 00. |     |     |     |  l  |  l  |  l  |  l  |     |   |     |  l  |  l  |  l  |  l  |  l  |  l  |  l  |  l  |  l  |  l  |  l  |  l  |  l  |  l  |  l  |  l  |  l  |  l  |  l  |  l  |  l  |     |     |     |  l  |  ER |  ER |  l  |  l  |  l  |  l  |  l  |  l  |  0  |     |     |  l  | 475 |  l  |     |     |  l  |  l  |     |     |  l  |     |  l  |  l  |\n",
       "|     |     |     |     |     |     |     |     |     |     |     |     |     |     |     |     |     |     |     |     |     |     |     |     |     |     |     |     |     |     |     |     |     |     |     |     |     |     |     |     |     |  0  |     |     |     |     |     |     |     |     |   |     |     |     |     |     |     |     |     |     |     |     |     |     |     |     |     |     |     |     |     |     |     |     |     |     |     |     |     |     |     |     |     |     |     |     |     |     |     |  b1 |     |     |     |     |     |     |     |     |     |     |     |\n",
       "|  1  | nul | nul | 313 | 0.0 | 0.0 | 0.0 | 0.0 | 0.0 | 0.0 | 0.0 | nul | nul | nul | nul | nul | nul | nul | nul | nul | nul | nul | 0.0 | 0.0 | 0.0 | 0.0 | 0.0 | 0.0 | 0.0 | 0.0 | 3.0 | 0.0 | 0.0 | 0.0 | 0.0 | 0.0 | 0.0 | 0.0 | nul | nul | 0.0 | 199 | CAL | 0.0 | 0.0 | nul | nul | nul | nul | 0.0 | … | 0.0 | nul | nul | nul | nul | nul | nul | nul | nul | nul | nul | nul | nul | nul | nul | nul | nul | nul | nul | nul | nul | nul | 0.0 | 0.0 | 0.0 | nul | OTH | OTH | nul | nul | nul | nul | nul | nul | 18. | 0.0 | 0.0 | nul | a55 | nul | 0.0 | 0.0 | nul | nul | 0.0 | 0.0 | nul |  BO | nul | nul |\n",
       "|     |  l  |  l  | 4.0 |     |     |     |     |     |     |     |  l  |  l  |  l  |  l  |  l  |  l  |  l  |  l  |  l  |  l  |  l  |     |     |     |     |     |     |     |     |     |     |     |     |     |     |     |     |  l  |  l  |     | 99. |     |     |     |  l  |  l  |  l  |  l  |     |   |     |  l  |  l  |  l  |  l  |  l  |  l  |  l  |  l  |  l  |  l  |  l  |  l  |  l  |  l  |  l  |  l  |  l  |  l  |  l  |  l  |  l  |     |     |     |  l  |  ER |  ER |  l  |  l  |  l  |  l  |  l  |  l  |  0  |     |     |  l  | 475 |  l  |     |     |  l  |  l  |     |     |  l  |     |  l  |  l  |\n",
       "|     |     |     |     |     |     |     |     |     |     |     |     |     |     |     |     |     |     |     |     |     |     |     |     |     |     |     |     |     |     |     |     |     |     |     |     |     |     |     |     |     |  8  |     |     |     |     |     |     |     |     |   |     |     |     |     |     |     |     |     |     |     |     |     |     |     |     |     |     |     |     |     |     |     |     |     |     |     |     |     |     |     |     |     |     |     |     |     |     |     |  b1 |     |     |     |     |     |     |     |     |     |     |     |\n",
       "|  2  | nul | nul | 493 | 0.0 | 0.0 | 0.0 | 0.0 | 0.0 | 0.0 | 0.0 | nul | nul | nul | nul | nul | nul | nul | nul | nul | nul | nul | 0.0 | 0.0 | 0.0 | 0.0 | 0.0 | 0.0 | 0.0 | nul | 0.0 | 0.0 | 0.0 | 0.0 | 0.0 | 0.0 | 0.0 | 0.0 | nul | nul | nul | 780 | CAL | 0.0 | 0.0 | nul | nul | nul | nul | 0.0 | … | 0.0 | nul | nul | nul | nul | nul | nul | nul | nul | nul | nul | nul | nul | nul | nul | nul | nul | nul | nul | nul | nul | nul | 0.0 | 0.0 | 0.0 | fal | OTH | OTH | nul | nul | nul | nul | nul | nul | 36. | 0.0 | 0.0 | nul | a55 | nul | 0.0 | 0.0 | nul | nul | 0.0 | 0.0 | nul |  BO |  AL | nul |\n",
       "|     |  l  |  l  | 7.0 |     |     |     |     |     |     |     |  l  |  l  |  l  |  l  |  l  |  l  |  l  |  l  |  l  |  l  |  l  |     |     |     |     |     |     |     |  l  |     |     |     |     |     |     |     |     |  l  |  l  |  l  | 00. |     |     |     |  l  |  l  |  l  |  l  |     |   |     |  l  |  l  |  l  |  l  |  l  |  l  |  l  |  l  |  l  |  l  |  l  |  l  |  l  |  l  |  l  |  l  |  l  |  l  |  l  |  l  |  l  |     |     |     |  se |  ER |  ER |  l  |  l  |  l  |  l  |  l  |  l  |  0  |     |     |  l  | 475 |  l  |     |     |  l  |  l  |     |     |  l  |     |     |  l  |\n",
       "|     |     |     |     |     |     |     |     |     |     |     |     |     |     |     |     |     |     |     |     |     |     |     |     |     |     |     |     |     |     |     |     |     |     |     |     |     |     |     |     |     |  0  |     |     |     |     |     |     |     |     |   |     |     |     |     |     |     |     |     |     |     |     |     |     |     |     |     |     |     |     |     |     |     |     |     |     |     |     |     |     |     |     |     |     |     |     |     |     |     |  b1 |     |     |     |     |     |     |     |     |     |     |     |\n",
       "|  3  | nul | nul | 464 | 0.0 | 0.0 | 1.0 | 0.0 | 2.0 | 0.0 | 1.0 | nul | nul | nul | nul | nul | nul | nul | nul | nul | nul | nul | 0.0 | 0.0 | 0.0 | 0.0 | 0.0 | 0.0 | 1.0 | nul | 0.0 | 0.0 | 0.0 | 0.0 | 0.0 | 0.0 | 0.0 | 0.0 | nul | nul | 0.0 | 400 | CAL | 0.0 | 0.0 | nul | nul | nul | nul | 0.0 | … | 0.0 | nul | nul | nul | nul | nul | nul | nul | nul | nul | nul | nul | nul | nul | nul | nul | nul | nul | nul | nul | nul | nul | 0.0 | 0.0 | 1.0 | fal | OTH | OTH | nul | nul | nul | nul | nul | nul | 12. | 0.0 | 0.0 | nul | a55 | nul | 1.0 | 1.0 | nul | nul | 0.0 | 0.0 | nul |  BO |  AL | nul |\n",
       "|     |  l  |  l  | 3.6 |     |     |     |     |     |     |     |  l  |  l  |  l  |  l  |  l  |  l  |  l  |  l  |  l  |  l  |  l  |     |     |     |     |     |     |     |  l  |     |     |     |     |     |     |     |     |  l  |  l  |     | 00. |     |     |     |  l  |  l  |  l  |  l  |     |   |     |  l  |  l  |  l  |  l  |  l  |  l  |  l  |  l  |  l  |  l  |  l  |  l  |  l  |  l  |  l  |  l  |  l  |  l  |  l  |  l  |  l  |     |     |     |  se |  ER |  ER |  l  |  l  |  l  |  l  |  l  |  l  |  0  |     |     |  l  | 475 |  l  |     |     |  l  |  l  |     |     |  l  |     |     |  l  |\n",
       "|     |     |     |     |     |     |     |     |     |     |     |     |     |     |     |     |     |     |     |     |     |     |     |     |     |     |     |     |     |     |     |     |     |     |     |     |     |     |     |     |     |  0  |     |     |     |     |     |     |     |     |   |     |     |     |     |     |     |     |     |     |     |     |     |     |     |     |     |     |     |     |     |     |     |     |     |     |     |     |     |     |     |     |     |     |     |     |     |     |     |  b1 |     |     |     |     |     |     |     |     |     |     |     |\n",
       "|  4  | nul | nul | 339 | 0.0 | 0.0 | 1.0 | 0.0 | 0.0 | 0.0 | 1.0 | nul | nul | nul | nul | nul | nul | nul | nul | nul | nul | nul | 0.0 | 0.0 | 0.0 | 0.0 | 0.0 | 0.0 | 0.0 | nul | 0.0 | 0.0 | 0.0 | 0.0 | 0.0 | 0.0 | 0.0 | 0.0 | nul | nul | 0.0 | 440 | CAL | 0.0 | 0.0 | nul | nul | nul | nul | 0.0 | … | 0.0 | nul | nul | nul | nul | nul | nul | nul | nul | nul | nul | nul | nul | nul | nul | nul | nul | nul | nul | nul | nul | nul | 0.0 | 0.0 | 0.0 | fal | OTH | OTH | nul | nul | nul | nul | nul | nul | 24. | 0.0 | 0.0 | nul | a55 | nul | 0.0 | 0.0 | nul | nul | 0.0 | 0.0 | nul |  BO |  AL | nul |\n",
       "|     |  l  |  l  | 0.2 |     |     |     |     |     |     |     |  l  |  l  |  l  |  l  |  l  |  l  |  l  |  l  |  l  |  l  |  l  |     |     |     |     |     |     |     |  l  |     |     |     |     |     |     |     |     |  l  |  l  |     | 00. |     |     |     |  l  |  l  |  l  |  l  |     |   |     |  l  |  l  |  l  |  l  |  l  |  l  |  l  |  l  |  l  |  l  |  l  |  l  |  l  |  l  |  l  |  l  |  l  |  l  |  l  |  l  |  l  |     |     |     |  se |  ER |  ER |  l  |  l  |  l  |  l  |  l  |  l  |  0  |     |     |  l  | 475 |  l  |     |     |  l  |  l  |     |     |  l  |     |     |  l  |\n",
       "|     |     |     |     |     |     |     |     |     |     |     |     |     |     |     |     |     |     |     |     |     |     |     |     |     |     |     |     |     |     |     |     |     |     |     |     |     |     |     |     |     |  0  |     |     |     |     |     |     |     |     |   |     |     |     |     |     |     |     |     |     |     |     |     |     |     |     |     |     |     |     |     |     |     |     |     |     |     |     |     |     |     |     |     |     |     |     |     |     |     |  b1 |     |     |     |     |     |     |     |     |     |     |     |\n",
       "+-----+-----+-----+-----+-----+-----+-----+-----+-----+-----+-----+-----+-----+-----+-----+-----+-----+-----+-----+-----+-----+-----+-----+-----+-----+-----+-----+-----+-----+-----+-----+-----+-----+-----+-----+-----+-----+-----+-----+-----+-----+-----+-----+-----+-----+-----+-----+-----+-----+-----+---+-----+-----+-----+-----+-----+-----+-----+-----+-----+-----+-----+-----+-----+-----+-----+-----+-----+-----+-----+-----+-----+-----+-----+-----+-----+-----+-----+-----+-----+-----+-----+-----+-----+-----+-----+-----+-----+-----+-----+-----+-----+-----+-----+-----+-----+-----+-----+-----+-----+-----+"
      ]
     },
     "execution_count": 26,
     "metadata": {},
     "output_type": "execute_result"
    }
   ],
   "source": [
    "train_static = pl.read_parquet('data/train/train_static_0_0.parquet')\n",
    "train_static.head()"
   ]
  },
  {
   "cell_type": "code",
   "execution_count": 27,
   "metadata": {},
   "outputs": [
    {
     "data": {
      "text/html": [
       "<div><style>\n",
       ".dataframe > thead > tr,\n",
       ".dataframe > tbody > tr {\n",
       "  text-align: right;\n",
       "  white-space: pre-wrap;\n",
       "}\n",
       "</style>\n",
       "<table border=\"1\" class=\"dataframe\"><thead><tr><th>case_id</th><th>assignmentdate_238D</th><th>assignmentdate_4527235D</th><th>assignmentdate_4955616D</th><th>birthdate_574D</th><th>contractssum_5085716L</th><th>dateofbirth_337D</th><th>dateofbirth_342D</th><th>days120_123L</th><th>days180_256L</th><th>days30_165L</th><th>days360_512L</th><th>days90_310L</th><th>description_5085714M</th><th>education_1103M</th><th>education_88M</th><th>firstquarter_103L</th><th>for3years_128L</th><th>for3years_504L</th><th>for3years_584L</th><th>formonth_118L</th><th>formonth_206L</th><th>formonth_535L</th><th>forquarter_1017L</th><th>forquarter_462L</th><th>forquarter_634L</th><th>fortoday_1092L</th><th>forweek_1077L</th><th>forweek_528L</th><th>forweek_601L</th><th>foryear_618L</th><th>foryear_818L</th><th>foryear_850L</th><th>fourthquarter_440L</th><th>maritalst_385M</th><th>maritalst_893M</th><th>numberofqueries_373L</th><th>pmtaverage_3A</th><th>pmtaverage_4527227A</th><th>pmtaverage_4955615A</th><th>pmtcount_4527229L</th><th>pmtcount_4955617L</th><th>pmtcount_693L</th><th>pmtscount_423L</th><th>pmtssum_45A</th><th>requesttype_4525192L</th><th>responsedate_1012D</th><th>responsedate_4527233D</th><th>responsedate_4917613D</th><th>riskassesment_302T</th><th>riskassesment_940T</th><th>secondquarter_766L</th><th>thirdquarter_1082L</th></tr><tr><td>i64</td><td>str</td><td>str</td><td>str</td><td>str</td><td>f64</td><td>str</td><td>str</td><td>f64</td><td>f64</td><td>f64</td><td>f64</td><td>f64</td><td>str</td><td>str</td><td>str</td><td>f64</td><td>f64</td><td>f64</td><td>f64</td><td>f64</td><td>f64</td><td>f64</td><td>f64</td><td>f64</td><td>f64</td><td>f64</td><td>f64</td><td>f64</td><td>f64</td><td>f64</td><td>f64</td><td>f64</td><td>f64</td><td>str</td><td>str</td><td>f64</td><td>f64</td><td>f64</td><td>f64</td><td>f64</td><td>f64</td><td>f64</td><td>f64</td><td>f64</td><td>str</td><td>str</td><td>str</td><td>str</td><td>str</td><td>f64</td><td>f64</td><td>f64</td></tr></thead><tbody><tr><td>357</td><td>null</td><td>null</td><td>null</td><td>&quot;1988-04-01&quot;</td><td>null</td><td>null</td><td>null</td><td>null</td><td>null</td><td>null</td><td>null</td><td>null</td><td>&quot;a55475b1&quot;</td><td>&quot;a55475b1&quot;</td><td>&quot;a55475b1&quot;</td><td>null</td><td>null</td><td>null</td><td>null</td><td>null</td><td>null</td><td>null</td><td>null</td><td>null</td><td>null</td><td>null</td><td>null</td><td>null</td><td>null</td><td>null</td><td>null</td><td>null</td><td>null</td><td>&quot;a55475b1&quot;</td><td>&quot;a55475b1&quot;</td><td>null</td><td>null</td><td>null</td><td>null</td><td>null</td><td>null</td><td>null</td><td>6.0</td><td>6301.4</td><td>null</td><td>&quot;2019-01-25&quot;</td><td>null</td><td>null</td><td>null</td><td>null</td><td>null</td><td>null</td></tr><tr><td>381</td><td>null</td><td>null</td><td>null</td><td>&quot;1973-11-01&quot;</td><td>null</td><td>null</td><td>null</td><td>null</td><td>null</td><td>null</td><td>null</td><td>null</td><td>&quot;a55475b1&quot;</td><td>&quot;a55475b1&quot;</td><td>&quot;a55475b1&quot;</td><td>null</td><td>null</td><td>null</td><td>null</td><td>null</td><td>null</td><td>null</td><td>null</td><td>null</td><td>null</td><td>null</td><td>null</td><td>null</td><td>null</td><td>null</td><td>null</td><td>null</td><td>null</td><td>&quot;a55475b1&quot;</td><td>&quot;a55475b1&quot;</td><td>null</td><td>null</td><td>null</td><td>null</td><td>null</td><td>null</td><td>null</td><td>6.0</td><td>4019.6</td><td>null</td><td>&quot;2019-01-25&quot;</td><td>null</td><td>null</td><td>null</td><td>null</td><td>null</td><td>null</td></tr><tr><td>388</td><td>null</td><td>null</td><td>null</td><td>&quot;1989-04-01&quot;</td><td>null</td><td>&quot;1989-04-01&quot;</td><td>null</td><td>6.0</td><td>8.0</td><td>2.0</td><td>10.0</td><td>4.0</td><td>&quot;a55475b1&quot;</td><td>&quot;a55475b1&quot;</td><td>&quot;a55475b1&quot;</td><td>2.0</td><td>null</td><td>null</td><td>null</td><td>null</td><td>null</td><td>null</td><td>null</td><td>null</td><td>null</td><td>null</td><td>null</td><td>null</td><td>null</td><td>null</td><td>null</td><td>null</td><td>6.0</td><td>&quot;a55475b1&quot;</td><td>&quot;a55475b1&quot;</td><td>10.0</td><td>null</td><td>null</td><td>null</td><td>null</td><td>null</td><td>null</td><td>6.0</td><td>14548.0</td><td>null</td><td>&quot;2019-01-28&quot;</td><td>null</td><td>null</td><td>null</td><td>null</td><td>3.0</td><td>5.0</td></tr><tr><td>405</td><td>null</td><td>null</td><td>null</td><td>&quot;1974-03-01&quot;</td><td>null</td><td>&quot;1974-03-01&quot;</td><td>null</td><td>0.0</td><td>0.0</td><td>0.0</td><td>1.0</td><td>0.0</td><td>&quot;a55475b1&quot;</td><td>&quot;a55475b1&quot;</td><td>&quot;a55475b1&quot;</td><td>0.0</td><td>null</td><td>null</td><td>null</td><td>null</td><td>null</td><td>null</td><td>null</td><td>null</td><td>null</td><td>null</td><td>null</td><td>null</td><td>null</td><td>null</td><td>null</td><td>null</td><td>4.0</td><td>&quot;a55475b1&quot;</td><td>&quot;a55475b1&quot;</td><td>1.0</td><td>null</td><td>null</td><td>null</td><td>null</td><td>null</td><td>null</td><td>6.0</td><td>10498.24</td><td>null</td><td>&quot;2019-01-21&quot;</td><td>null</td><td>null</td><td>null</td><td>null</td><td>2.0</td><td>0.0</td></tr><tr><td>409</td><td>null</td><td>null</td><td>null</td><td>&quot;1993-06-01&quot;</td><td>null</td><td>&quot;1993-06-01&quot;</td><td>null</td><td>2.0</td><td>3.0</td><td>0.0</td><td>3.0</td><td>1.0</td><td>&quot;a55475b1&quot;</td><td>&quot;717ddd49&quot;</td><td>&quot;a55475b1&quot;</td><td>4.0</td><td>null</td><td>null</td><td>null</td><td>null</td><td>null</td><td>null</td><td>null</td><td>null</td><td>null</td><td>null</td><td>null</td><td>null</td><td>null</td><td>null</td><td>null</td><td>null</td><td>1.0</td><td>&quot;a7fcb6e5&quot;</td><td>&quot;a55475b1&quot;</td><td>3.0</td><td>null</td><td>null</td><td>null</td><td>null</td><td>null</td><td>null</td><td>7.0</td><td>6344.8804</td><td>null</td><td>&quot;2019-01-21&quot;</td><td>null</td><td>null</td><td>null</td><td>null</td><td>0.0</td><td>4.0</td></tr></tbody></table></div>"
      ],
      "text/plain": [
       "+-----+-----+-----+-----+-----+-----+-----+-----+-----+-----+-----+-----+-----+-----+-----+-----+-----+-----+-----+-----+-----+-----+-----+-----+-----+-----+-----+-----+-----+-----+-----+-----+-----+-----+-----+-----+-----+-----+-----+-----+-----+-----+-----+-----+-----+-----+-----+-----+-----+-----+-----+-----+-----+\n",
       "| cas | ass | ass | ass | bir | con | dat | dat | day | day | day | day | day | des | edu | edu | fir | for | for | for | for | for | for | for | for | for | for | for | for | for | for | for | for | fou | mar | mar | num | pmt | pmt | pmt | pmt | pmt | pmt | pmt | pmt | req | res | res | res | ris | ris | sec | thi |\n",
       "| e_i | ign | ign | ign | thd | tra | eof | eof | s12 | s18 | s30 | s36 | s90 | cri | cat | cat | stq | 3ye | 3ye | 3ye | mon | mon | mon | qua | qua | qua | tod | wee | wee | wee | yea | yea | yea | rth | ita | ita | ber | ave | ave | ave | cou | cou | cou | sco | ssu | ues | pon | pon | pon | kas | kas | ond | rdq |\n",
       "|  d  | men | men | men | ate | cts | bir | bir | 0_1 | 0_2 | _16 | 0_5 | _31 | pti | ion | ion | uar | ars | ars | ars | th_ | th_ | th_ | rte | rte | rte | ay_ | k_1 | k_5 | k_6 | r_6 | r_8 | r_8 | qua | lst | lst | ofq | rag | rag | rag | nt_ | nt_ | nt_ | unt | m_4 | tty | sed | sed | sed | ses | ses | qua | uar |\n",
       "| i64 | tda | tda | tda | _57 | sum | th_ | th_ | 23L | 56L |  5L | 12L |  0L | on_ | _11 | _88 | ter | _12 | _50 | _58 | 118 | 206 | 535 | r_1 | r_4 | r_6 | 109 | 077 | 28L | 01L | 18L | 18L | 50L | rte | _38 | _89 | uer | e_3 | e_4 | e_4 | 452 | 495 | 693 | _42 |  5A | pe_ | ate | ate | ate | men | men | rte | ter |\n",
       "|     | te_ | te_ | te_ |  4D | _50 | 337 | 342 | f64 | f64 | f64 | f64 | f64 | 508 | 03M |  M  | _10 |  8L |  4L |  4L |  L  |  L  |  L  | 017 | 62L | 34L |  2L |  L  | f64 | f64 | f64 | f64 | f64 | r_4 |  5M |  3M | ies |  A  | 527 | 955 | 722 | 561 |  L  |  3L | f64 | 452 | _10 | _45 | _49 | t_3 | t_9 | r_7 | _10 |\n",
       "|     | 238 | 452 | 495 | str | 857 |  D  |  D  |     |     |     |     |     | 571 | str | str |  3L | f64 | f64 | f64 | f64 | f64 | f64 |  L  | f64 | f64 | f64 | f64 |     |     |     |     |     | 40L | str | str | _37 | f64 | 227 | 615 |  9L |  7L | f64 | f64 |     | 519 | 12D | 272 | 176 | 02T | 40T | 66L | 82L |\n",
       "|     |  D  | 723 | 561 |     | 16L | str | str |     |     |     |     |     |  4M |     |     | f64 |     |     |     |     |     |     | f64 |     |     |     |     |     |     |     |     |     | f64 |     |     |  3L |     |  A  |  A  | f64 | f64 |     |     |     |  2L | str | 33D | 13D | str | f64 | f64 | f64 |\n",
       "|     | str |  5D |  6D |     | f64 |     |     |     |     |     |     |     | str |     |     |     |     |     |     |     |     |     |     |     |     |     |     |     |     |     |     |     |     |     |     | f64 |     | f64 | f64 |     |     |     |     |     | str |     | str | str |     |     |     |     |\n",
       "|     |     | str | str |     |     |     |     |     |     |     |     |     |     |     |     |     |     |     |     |     |     |     |     |     |     |     |     |     |     |     |     |     |     |     |     |     |     |     |     |     |     |     |     |     |     |     |     |     |     |     |     |     |\n",
       "+=============================================================================================================================================================================================================================================================================================================================+\n",
       "| 357 | nul | nul | nul | 198 | nul | nul | nul | nul | nul | nul | nul | nul | a55 | a55 | a55 | nul | nul | nul | nul | nul | nul | nul | nul | nul | nul | nul | nul | nul | nul | nul | nul | nul | nul | a55 | a55 | nul | nul | nul | nul | nul | nul | nul | 6.0 | 630 | nul | 201 | nul | nul | nul | nul | nul | nul |\n",
       "|     |  l  |  l  |  l  | 8-0 |  l  |  l  |  l  |  l  |  l  |  l  |  l  |  l  | 475 | 475 | 475 |  l  |  l  |  l  |  l  |  l  |  l  |  l  |  l  |  l  |  l  |  l  |  l  |  l  |  l  |  l  |  l  |  l  |  l  | 475 | 475 |  l  |  l  |  l  |  l  |  l  |  l  |  l  |     | 1.4 |  l  | 9-0 |  l  |  l  |  l  |  l  |  l  |  l  |\n",
       "|     |     |     |     | 4-0 |     |     |     |     |     |     |     |     |  b1 |  b1 |  b1 |     |     |     |     |     |     |     |     |     |     |     |     |     |     |     |     |     |     |  b1 |  b1 |     |     |     |     |     |     |     |     |     |     | 1-2 |     |     |     |     |     |     |\n",
       "|     |     |     |     |  1  |     |     |     |     |     |     |     |     |     |     |     |     |     |     |     |     |     |     |     |     |     |     |     |     |     |     |     |     |     |     |     |     |     |     |     |     |     |     |     |     |     |  5  |     |     |     |     |     |     |\n",
       "| 381 | nul | nul | nul | 197 | nul | nul | nul | nul | nul | nul | nul | nul | a55 | a55 | a55 | nul | nul | nul | nul | nul | nul | nul | nul | nul | nul | nul | nul | nul | nul | nul | nul | nul | nul | a55 | a55 | nul | nul | nul | nul | nul | nul | nul | 6.0 | 401 | nul | 201 | nul | nul | nul | nul | nul | nul |\n",
       "|     |  l  |  l  |  l  | 3-1 |  l  |  l  |  l  |  l  |  l  |  l  |  l  |  l  | 475 | 475 | 475 |  l  |  l  |  l  |  l  |  l  |  l  |  l  |  l  |  l  |  l  |  l  |  l  |  l  |  l  |  l  |  l  |  l  |  l  | 475 | 475 |  l  |  l  |  l  |  l  |  l  |  l  |  l  |     | 9.6 |  l  | 9-0 |  l  |  l  |  l  |  l  |  l  |  l  |\n",
       "|     |     |     |     | 1-0 |     |     |     |     |     |     |     |     |  b1 |  b1 |  b1 |     |     |     |     |     |     |     |     |     |     |     |     |     |     |     |     |     |     |  b1 |  b1 |     |     |     |     |     |     |     |     |     |     | 1-2 |     |     |     |     |     |     |\n",
       "|     |     |     |     |  1  |     |     |     |     |     |     |     |     |     |     |     |     |     |     |     |     |     |     |     |     |     |     |     |     |     |     |     |     |     |     |     |     |     |     |     |     |     |     |     |     |     |  5  |     |     |     |     |     |     |\n",
       "| 388 | nul | nul | nul | 198 | nul | 198 | nul | 6.0 | 8.0 | 2.0 | 10. | 4.0 | a55 | a55 | a55 | 2.0 | nul | nul | nul | nul | nul | nul | nul | nul | nul | nul | nul | nul | nul | nul | nul | nul | 6.0 | a55 | a55 | 10. | nul | nul | nul | nul | nul | nul | 6.0 | 145 | nul | 201 | nul | nul | nul | nul | 3.0 | 5.0 |\n",
       "|     |  l  |  l  |  l  | 9-0 |  l  | 9-0 |  l  |     |     |     |  0  |     | 475 | 475 | 475 |     |  l  |  l  |  l  |  l  |  l  |  l  |  l  |  l  |  l  |  l  |  l  |  l  |  l  |  l  |  l  |  l  |     | 475 | 475 |  0  |  l  |  l  |  l  |  l  |  l  |  l  |     | 48. |  l  | 9-0 |  l  |  l  |  l  |  l  |     |     |\n",
       "|     |     |     |     | 4-0 |     | 4-0 |     |     |     |     |     |     |  b1 |  b1 |  b1 |     |     |     |     |     |     |     |     |     |     |     |     |     |     |     |     |     |     |  b1 |  b1 |     |     |     |     |     |     |     |     |  0  |     | 1-2 |     |     |     |     |     |     |\n",
       "|     |     |     |     |  1  |     |  1  |     |     |     |     |     |     |     |     |     |     |     |     |     |     |     |     |     |     |     |     |     |     |     |     |     |     |     |     |     |     |     |     |     |     |     |     |     |     |     |  8  |     |     |     |     |     |     |\n",
       "| 405 | nul | nul | nul | 197 | nul | 197 | nul | 0.0 | 0.0 | 0.0 | 1.0 | 0.0 | a55 | a55 | a55 | 0.0 | nul | nul | nul | nul | nul | nul | nul | nul | nul | nul | nul | nul | nul | nul | nul | nul | 4.0 | a55 | a55 | 1.0 | nul | nul | nul | nul | nul | nul | 6.0 | 104 | nul | 201 | nul | nul | nul | nul | 2.0 | 0.0 |\n",
       "|     |  l  |  l  |  l  | 4-0 |  l  | 4-0 |  l  |     |     |     |     |     | 475 | 475 | 475 |     |  l  |  l  |  l  |  l  |  l  |  l  |  l  |  l  |  l  |  l  |  l  |  l  |  l  |  l  |  l  |  l  |     | 475 | 475 |     |  l  |  l  |  l  |  l  |  l  |  l  |     | 98. |  l  | 9-0 |  l  |  l  |  l  |  l  |     |     |\n",
       "|     |     |     |     | 3-0 |     | 3-0 |     |     |     |     |     |     |  b1 |  b1 |  b1 |     |     |     |     |     |     |     |     |     |     |     |     |     |     |     |     |     |     |  b1 |  b1 |     |     |     |     |     |     |     |     |  24 |     | 1-2 |     |     |     |     |     |     |\n",
       "|     |     |     |     |  1  |     |  1  |     |     |     |     |     |     |     |     |     |     |     |     |     |     |     |     |     |     |     |     |     |     |     |     |     |     |     |     |     |     |     |     |     |     |     |     |     |     |     |  1  |     |     |     |     |     |     |\n",
       "| 409 | nul | nul | nul | 199 | nul | 199 | nul | 2.0 | 3.0 | 0.0 | 3.0 | 1.0 | a55 | 717 | a55 | 4.0 | nul | nul | nul | nul | nul | nul | nul | nul | nul | nul | nul | nul | nul | nul | nul | nul | 1.0 | a7f | a55 | 3.0 | nul | nul | nul | nul | nul | nul | 7.0 | 634 | nul | 201 | nul | nul | nul | nul | 0.0 | 4.0 |\n",
       "|     |  l  |  l  |  l  | 3-0 |  l  | 3-0 |  l  |     |     |     |     |     | 475 | ddd | 475 |     |  l  |  l  |  l  |  l  |  l  |  l  |  l  |  l  |  l  |  l  |  l  |  l  |  l  |  l  |  l  |  l  |     | cb6 | 475 |     |  l  |  l  |  l  |  l  |  l  |  l  |     | 4.8 |  l  | 9-0 |  l  |  l  |  l  |  l  |     |     |\n",
       "|     |     |     |     | 6-0 |     | 6-0 |     |     |     |     |     |     |  b1 |  49 |  b1 |     |     |     |     |     |     |     |     |     |     |     |     |     |     |     |     |     |     |  e5 |  b1 |     |     |     |     |     |     |     |     | 804 |     | 1-2 |     |     |     |     |     |     |\n",
       "|     |     |     |     |  1  |     |  1  |     |     |     |     |     |     |     |     |     |     |     |     |     |     |     |     |     |     |     |     |     |     |     |     |     |     |     |     |     |     |     |     |     |     |     |     |     |     |     |  1  |     |     |     |     |     |     |\n",
       "+-----+-----+-----+-----+-----+-----+-----+-----+-----+-----+-----+-----+-----+-----+-----+-----+-----+-----+-----+-----+-----+-----+-----+-----+-----+-----+-----+-----+-----+-----+-----+-----+-----+-----+-----+-----+-----+-----+-----+-----+-----+-----+-----+-----+-----+-----+-----+-----+-----+-----+-----+-----+-----+"
      ]
     },
     "execution_count": 27,
     "metadata": {},
     "output_type": "execute_result"
    }
   ],
   "source": [
    "train_static_cb = pl.read_parquet('data/train/train_static_cb_0.parquet')\n",
    "train_static_cb.head()"
   ]
  },
  {
   "cell_type": "code",
   "execution_count": 8,
   "metadata": {},
   "outputs": [
    {
     "data": {
      "text/html": [
       "<div><style>\n",
       ".dataframe > thead > tr,\n",
       ".dataframe > tbody > tr {\n",
       "  text-align: right;\n",
       "  white-space: pre-wrap;\n",
       "}\n",
       "</style>\n",
       "<table border=\"1\" class=\"dataframe\"><thead><tr><th>case_id</th><th>last180dayaveragebalance_704A</th><th>last180dayturnover_1134A</th><th>last30dayturnover_651A</th><th>num_group1</th><th>openingdate_857D</th></tr></thead><tbody><tr><td>225</td><td>null</td><td>null</td><td>null</td><td>0</td><td>&quot;2016-08-16&quot;</td></tr><tr><td>331</td><td>null</td><td>null</td><td>null</td><td>0</td><td>&quot;2015-03-19&quot;</td></tr><tr><td>358</td><td>null</td><td>null</td><td>null</td><td>0</td><td>&quot;2014-09-02&quot;</td></tr><tr><td>390</td><td>null</td><td>null</td><td>null</td><td>0</td><td>&quot;2014-07-23&quot;</td></tr><tr><td>390</td><td>null</td><td>null</td><td>null</td><td>1</td><td>&quot;2015-10-01&quot;</td></tr></tbody></table></div>"
      ],
      "text/plain": [
       "+---------+------------------+------------------+------------------+------------+------------------+\n",
       "| case_id | last180dayaverag | last180dayturnov | last30dayturnove | num_group1 | openingdate_857D |\n",
       "|         |   ebalance_704A  |     er_1134A     |      r_651A      |            |                  |\n",
       "+==================================================================================================+\n",
       "|   225   |       null       |       null       |       null       |      0     |    2016-08-16    |\n",
       "|   331   |       null       |       null       |       null       |      0     |    2015-03-19    |\n",
       "|   358   |       null       |       null       |       null       |      0     |    2014-09-02    |\n",
       "|   390   |       null       |       null       |       null       |      0     |    2014-07-23    |\n",
       "|   390   |       null       |       null       |       null       |      1     |    2015-10-01    |\n",
       "+---------+------------------+------------------+------------------+------------+------------------+"
      ]
     },
     "execution_count": 8,
     "metadata": {},
     "output_type": "execute_result"
    }
   ],
   "source": [
    "train_debit = pl.read_parquet('data/train/train_debitcard_1.parquet')\n",
    "train_debit.head()"
   ]
  },
  {
   "cell_type": "markdown",
   "metadata": {},
   "source": [
    "# Reference\n",
    "\n",
    "* [Home Credit Baseline](https://www.kaggle.com/code/greysky/home-credit-baseline)"
   ]
  }
 ],
 "metadata": {
  "kernelspec": {
   "display_name": "base",
   "language": "python",
   "name": "python3"
  },
  "language_info": {
   "codemirror_mode": {
    "name": "ipython",
    "version": 3
   },
   "file_extension": ".py",
   "mimetype": "text/x-python",
   "name": "python",
   "nbconvert_exporter": "python",
   "pygments_lexer": "ipython3",
   "version": "3.11.5"
  }
 },
 "nbformat": 4,
 "nbformat_minor": 2
}
